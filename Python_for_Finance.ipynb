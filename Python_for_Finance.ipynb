{
  "nbformat": 4,
  "nbformat_minor": 0,
  "metadata": {
    "colab": {
      "name": "Python for Finance.ipynb",
      "provenance": []
    },
    "kernelspec": {
      "name": "python3",
      "display_name": "Python 3"
    },
    "language_info": {
      "name": "python"
    }
  },
  "cells": [
    {
      "cell_type": "markdown",
      "metadata": {
        "id": "GNETPFTv6qsC"
      },
      "source": [
        "#Python for Finance\n"
      ]
    },
    {
      "cell_type": "markdown",
      "metadata": {
        "id": "JphoJUXadkO4"
      },
      "source": [
        "##Future & Present Values"
      ]
    },
    {
      "cell_type": "markdown",
      "metadata": {
        "id": "ppQjbJnSdiSX"
      },
      "source": [
        "Simple example to calculate the future value of an investment.\n",
        "Assuming £1000 investment for 5 years at an annual return rate of 8%."
      ]
    },
    {
      "cell_type": "code",
      "metadata": {
        "colab": {
          "base_uri": "https://localhost:8080/"
        },
        "id": "wU9bGtXU7dzO",
        "outputId": "4d6a974a-9f6b-4439-c452-cc5d84cd8c23"
      },
      "source": [
        "!pip install numpy_financial\n",
        "import numpy_financial as npf"
      ],
      "execution_count": 2,
      "outputs": [
        {
          "output_type": "stream",
          "name": "stdout",
          "text": [
            "Collecting numpy_financial\n",
            "  Downloading numpy_financial-1.0.0-py3-none-any.whl (14 kB)\n",
            "Requirement already satisfied: numpy>=1.15 in /usr/local/lib/python3.7/dist-packages (from numpy_financial) (1.19.5)\n",
            "Installing collected packages: numpy-financial\n",
            "Successfully installed numpy-financial-1.0.0\n"
          ]
        }
      ]
    },
    {
      "cell_type": "markdown",
      "metadata": {
        "id": "YUqUad_w8zgp"
      },
      "source": [
        "First install and import numpy financial library."
      ]
    },
    {
      "cell_type": "markdown",
      "metadata": {
        "id": "LEB1toaSeCBX"
      },
      "source": [
        "The fv() function stands for future value.\n",
        "The pv() function is used to calculate the present value of an investment."
      ]
    },
    {
      "cell_type": "code",
      "metadata": {
        "colab": {
          "base_uri": "https://localhost:8080/"
        },
        "id": "kzoNB2xT6nWG",
        "outputId": "87fc8d33-f224-40bb-eeae-c99bfbd03bea"
      },
      "source": [
        "res = npf.fv(rate=0.08, nper=5, pmt=0, pv=-1000)\n",
        "print(res)"
      ],
      "execution_count": 5,
      "outputs": [
        {
          "output_type": "stream",
          "name": "stdout",
          "text": [
            "1469.3280768000006\n"
          ]
        }
      ]
    },
    {
      "cell_type": "markdown",
      "metadata": {
        "id": "nXiZIjeY7ozC"
      },
      "source": [
        "Assuming £10,000 investment for 5 years at an annual return rate of 15%"
      ]
    },
    {
      "cell_type": "code",
      "metadata": {
        "colab": {
          "base_uri": "https://localhost:8080/"
        },
        "id": "k6hz4hm97wfb",
        "outputId": "f761cf82-84d6-4dac-c0e6-822829332b00"
      },
      "source": [
        "res = npf.fv(rate=0.15, nper=5, pmt=0, pv=-10000)\n",
        "print(res)"
      ],
      "execution_count": 9,
      "outputs": [
        {
          "output_type": "stream",
          "name": "stdout",
          "text": [
            "20113.571874999994\n"
          ]
        }
      ]
    },
    {
      "cell_type": "markdown",
      "metadata": {
        "id": "FfzkHNRV8Ofh"
      },
      "source": [
        "Value of investing £500 at an annual rate of 3% for 2 years."
      ]
    },
    {
      "cell_type": "code",
      "metadata": {
        "colab": {
          "base_uri": "https://localhost:8080/"
        },
        "id": "PFmpPK6o8UkO",
        "outputId": "b0f6cf31-eb50-463d-ea30-d2c14d577e7e"
      },
      "source": [
        "res = npf.fv(rate=0.03,nper=2, pmt=0, pv=-500)\n",
        "print(res)"
      ],
      "execution_count": 12,
      "outputs": [
        {
          "output_type": "stream",
          "name": "stdout",
          "text": [
            "530.4499999999999\n"
          ]
        }
      ]
    },
    {
      "cell_type": "markdown",
      "metadata": {
        "id": "9-vetXXMKBPw"
      },
      "source": [
        "To calculate the amount you need to invest annually for 15 years at an interest rate of 7% to result in a total amount of 150,000."
      ]
    },
    {
      "cell_type": "code",
      "metadata": {
        "colab": {
          "base_uri": "https://localhost:8080/"
        },
        "id": "ubyK0tjYeynG",
        "outputId": "1e5d622f-f628-4d8a-ea27-ab59c076fc55"
      },
      "source": [
        "res = npf.pv(rate=0.07,nper=15,pmt=0,fv=150000)\n",
        "print(res)"
      ],
      "execution_count": 3,
      "outputs": [
        {
          "output_type": "stream",
          "name": "stdout",
          "text": [
            "-54366.90294635392\n"
          ]
        }
      ]
    },
    {
      "cell_type": "markdown",
      "metadata": {
        "id": "wJq9HnZKfSr2"
      },
      "source": [
        "##Monthly Loan Payments"
      ]
    },
    {
      "cell_type": "markdown",
      "metadata": {
        "id": "KjcBB_-ffWFw"
      },
      "source": [
        "The pmt() function is used to compute the payment against loan principal plus interest."
      ]
    },
    {
      "cell_type": "markdown",
      "metadata": {
        "id": "aDFsx6DifgKl"
      },
      "source": [
        "Let's say we want to calculate how much we have to pay monthly to pay back a loan of 100,000 in 5 years. The yearly interest rate is 7%, and is calculated monthly."
      ]
    },
    {
      "cell_type": "code",
      "metadata": {
        "colab": {
          "base_uri": "https://localhost:8080/"
        },
        "id": "bmVYlS8yfu8o",
        "outputId": "244fb8a1-072c-44b6-b0f5-22654f25de03"
      },
      "source": [
        "res = npf.pmt(rate=0.07/12, nper=5*12, pv=100000, fv=0)\n",
        "print(res)"
      ],
      "execution_count": 5,
      "outputs": [
        {
          "output_type": "stream",
          "name": "stdout",
          "text": [
            "-1980.1198540349467\n"
          ]
        }
      ]
    },
    {
      "cell_type": "markdown",
      "metadata": {
        "id": "KxnAFGQxgIsI"
      },
      "source": [
        "Note that aside from computing a monthly mortgage payment, the pmt() function can be used to return the periodic deposit one must make to achieve a specified future balance with given interest rate."
      ]
    },
    {
      "cell_type": "code",
      "metadata": {
        "colab": {
          "base_uri": "https://localhost:8080/"
        },
        "id": "ThHLxeV4gb1W",
        "outputId": "f77617cf-d24b-4a43-aece-4e1eab744736"
      },
      "source": [
        "res = npf.pmt(rate=0.10/12, nper=5*12, pv=0, fv=50000)\n",
        "print(res)"
      ],
      "execution_count": 6,
      "outputs": [
        {
          "output_type": "stream",
          "name": "stdout",
          "text": [
            "-645.6855688967499\n"
          ]
        }
      ]
    },
    {
      "cell_type": "markdown",
      "metadata": {
        "id": "RzcMuQDEgtIe"
      },
      "source": [
        "The above code returns the monthly deposits needed to achieve 50,000 in 5 yearrs with 10% annual interest."
      ]
    },
    {
      "cell_type": "markdown",
      "metadata": {
        "id": "HDKwMR2Fg_bM"
      },
      "source": [
        "To calculate how much you need to save annually, to result in 100,000 savings in 30 years. Assuming the interest rate is 3%."
      ]
    },
    {
      "cell_type": "code",
      "metadata": {
        "colab": {
          "base_uri": "https://localhost:8080/"
        },
        "id": "K_aHnBJihNb0",
        "outputId": "bbec2505-d309-4407-f026-54376823bbc9"
      },
      "source": [
        "res = npf.pmt(rate=0.03/12, nper=30*12, pv=0, fv=100000)\n",
        "print(res)"
      ],
      "execution_count": 7,
      "outputs": [
        {
          "output_type": "stream",
          "name": "stdout",
          "text": [
            "-171.60403372945598\n"
          ]
        }
      ]
    },
    {
      "cell_type": "markdown",
      "metadata": {
        "id": "Rr3lc5tZiUZX"
      },
      "source": [
        "##Calculating IRR (**I**nternal **R**ate of **R**eturn)"
      ]
    },
    {
      "cell_type": "markdown",
      "metadata": {
        "id": "MllwFswAiW2I"
      },
      "source": [
        "Numpy Financial has an irr() function, used to calculate the (**I**nternal **R**ate of **R**eturn)."
      ]
    },
    {
      "cell_type": "markdown",
      "metadata": {
        "id": "erChy5cRiscB"
      },
      "source": [
        "Let's assume we invested 5000 and got the following payments back: 500, 700, 1000, 3000. To calculate the IRR, we firsst need to declare an array with the values, with the first value being our initial investment:"
      ]
    },
    {
      "cell_type": "code",
      "metadata": {
        "colab": {
          "base_uri": "https://localhost:8080/"
        },
        "id": "8GTuFsBii8pm",
        "outputId": "f21406b8-fc11-4618-acba-74ea4a275dfb"
      },
      "source": [
        "cashflow = [-5000, 500, 700, 1000, 3000]\n",
        "print(npf.irr(cashflow))"
      ],
      "execution_count": 8,
      "outputs": [
        {
          "output_type": "stream",
          "name": "stdout",
          "text": [
            "0.012164656866492818\n"
          ]
        }
      ]
    },
    {
      "cell_type": "markdown",
      "metadata": {
        "id": "RMWhFDz6jTG1"
      },
      "source": [
        "Using the irr() function to compare two investment opportunities and decide which one is better.\n",
        "\n",
        ">Option 1:\n",
        "\n",
        "* Requires 50K in investment.\n",
        "* Will pay 10K, 25K, 25K, 35K, 42K each year for the next 5 years.\n",
        "\n",
        ">Option 2:\n",
        "\n",
        "* Requires 30K in investment.\n",
        "* Will pay 10K, 13K, 18K, 25K, 20K each year for the next 5 years."
      ]
    },
    {
      "cell_type": "code",
      "metadata": {
        "colab": {
          "base_uri": "https://localhost:8080/"
        },
        "id": "WLHR2PPejcTd",
        "outputId": "6b3fffbc-70ad-4b3e-9c3c-c8fc07d9610c"
      },
      "source": [
        "cf1 = [-50000, 10000, 25000, 25000, 35000, 42000]\n",
        "cf2 = [-30000, 10000, 13000, 18000, 25000, 20000]\n",
        "\n",
        "print(\"Option 1 :\", npf.irr(cf1))\n",
        "print(\"Option 2 :\", npf.irr(cf2))"
      ],
      "execution_count": 11,
      "outputs": [
        {
          "output_type": "stream",
          "name": "stdout",
          "text": [
            "Option 1 : 0.3605982754620045\n",
            "Option 2 : 0.4094208743397143\n"
          ]
        }
      ]
    },
    {
      "cell_type": "markdown",
      "metadata": {
        "id": "37e21LynmEfw"
      },
      "source": [
        "##Plotting Data"
      ]
    },
    {
      "cell_type": "markdown",
      "metadata": {
        "id": "sdTKsqjOmM0c"
      },
      "source": [
        "Import matplotlib package for pyplot sub-package used to create graphs and charts."
      ]
    },
    {
      "cell_type": "code",
      "metadata": {
        "id": "_x0mMYDVmbsE"
      },
      "source": [
        "import matplotlib.pyplot as plt\n"
      ],
      "execution_count": 12,
      "outputs": []
    },
    {
      "cell_type": "markdown",
      "metadata": {
        "id": "PqvJTk07mt-C"
      },
      "source": [
        "Let's assume we have a company's 5 month revenue data in an array:"
      ]
    },
    {
      "cell_type": "code",
      "metadata": {
        "colab": {
          "base_uri": "https://localhost:8080/",
          "height": 282
        },
        "id": "oSdkoeZjmzNZ",
        "outputId": "43952126-f0f9-47e3-f69f-67c06863243e"
      },
      "source": [
        "rev = [18000, 25000, 20000, 45000, 19500]\n",
        "plt.plot(rev)"
      ],
      "execution_count": 13,
      "outputs": [
        {
          "output_type": "execute_result",
          "data": {
            "text/plain": [
              "[<matplotlib.lines.Line2D at 0x7f8f26cf4350>]"
            ]
          },
          "metadata": {},
          "execution_count": 13
        },
        {
          "output_type": "display_data",
          "data": {
            "image/png": "[encoded data removed]",
            "text/plain": [
              "<Figure size 432x288 with 1 Axes>"
            ]
          },
          "metadata": {
            "needs_background": "light"
          }
        }
      ]
    },
    {
      "cell_type": "markdown",
      "metadata": {
        "id": "LRS1nUXDnJV8"
      },
      "source": [
        "Adding values for both the x and y axis."
      ]
    },
    {
      "cell_type": "code",
      "metadata": {
        "colab": {
          "base_uri": "https://localhost:8080/",
          "height": 282
        },
        "id": "lyRVxqSDnPNE",
        "outputId": "e3f1eb10-6a90-426c-caf9-5fafd3118457"
      },
      "source": [
        "rev = [18000, 25000, 20000, 45000, 32000]\n",
        "months = ['June', 'July', 'August', 'September', 'October']\n",
        "plt.plot(months, rev)"
      ],
      "execution_count": 14,
      "outputs": [
        {
          "output_type": "execute_result",
          "data": {
            "text/plain": [
              "[<matplotlib.lines.Line2D at 0x7f8f26b98390>]"
            ]
          },
          "metadata": {},
          "execution_count": 14
        },
        {
          "output_type": "display_data",
          "data": {
            "image/png": "[encoded data removed]",
            "text/plain": [
              "<Figure size 432x288 with 1 Axes>"
            ]
          },
          "metadata": {
            "needs_background": "light"
          }
        }
      ]
    },
    {
      "cell_type": "markdown",
      "metadata": {
        "id": "GGmBr3K6nvuT"
      },
      "source": [
        "##Accessing Data"
      ]
    },
    {
      "cell_type": "markdown",
      "metadata": {
        "id": "MBFLFtE1nxjE"
      },
      "source": [
        "Web scraping extracts content and data from a website. This method can be used to scrrape any public web page."
      ]
    },
    {
      "cell_type": "markdown",
      "metadata": {
        "id": "SGI07rqKoGs8"
      },
      "source": [
        "Another way to access data is to use a dedicated Python package.\n",
        "\n",
        "One package called yfinance offers a convenient way to access data from Yahoo Finance.\n"
      ]
    },
    {
      "cell_type": "markdown",
      "metadata": {
        "id": "B5myq3Txo3qm"
      },
      "source": [
        "To scrape data from the web using Python I will use Pandas to scrape and store data in tabular format."
      ]
    },
    {
      "cell_type": "code",
      "metadata": {
        "id": "rGn1o8yNn999"
      },
      "source": [
        "import pandas as pd"
      ],
      "execution_count": 15,
      "outputs": []
    },
    {
      "cell_type": "markdown",
      "metadata": {
        "id": "E_XDDOAmpL0H"
      },
      "source": [
        "Pandas Series based on an array:"
      ]
    },
    {
      "cell_type": "code",
      "metadata": {
        "colab": {
          "base_uri": "https://localhost:8080/"
        },
        "id": "WXZQT9_0pPQs",
        "outputId": "5b0445f2-3277-4624-f072-96d10ff22aae"
      },
      "source": [
        "prices = [42.8, 102.03, 240.38, 80.9]\n",
        "s = pd.Series(prices)\n",
        "print(s)"
      ],
      "execution_count": 16,
      "outputs": [
        {
          "output_type": "stream",
          "name": "stdout",
          "text": [
            "0     42.80\n",
            "1    102.03\n",
            "2    240.38\n",
            "3     80.90\n",
            "dtype: float64\n"
          ]
        }
      ]
    },
    {
      "cell_type": "markdown",
      "metadata": {
        "id": "4vbnUVExpgAH"
      },
      "source": [
        "We can use the describe() function to see the key statistics:"
      ]
    },
    {
      "cell_type": "code",
      "metadata": {
        "colab": {
          "base_uri": "https://localhost:8080/"
        },
        "id": "n2xWE-A7poG4",
        "outputId": "7ed51133-501b-46b5-d17f-d74488e505c9"
      },
      "source": [
        "print(s.describe())"
      ],
      "execution_count": 17,
      "outputs": [
        {
          "output_type": "stream",
          "name": "stdout",
          "text": [
            "count      4.000000\n",
            "mean     116.527500\n",
            "std       86.129132\n",
            "min       42.800000\n",
            "25%       71.375000\n",
            "50%       91.465000\n",
            "75%      136.617500\n",
            "max      240.380000\n",
            "dtype: float64\n"
          ]
        }
      ]
    },
    {
      "cell_type": "markdown",
      "metadata": {
        "id": "GOJo3ZBopyvF"
      },
      "source": [
        "A dataframe is similar to a spreadsheet, storing data in rows and columns. It is a collection of Series, which correspond to the columns. "
      ]
    },
    {
      "cell_type": "code",
      "metadata": {
        "colab": {
          "base_uri": "https://localhost:8080/"
        },
        "id": "Vtu3CzVYp9S3",
        "outputId": "988de435-13a9-4462-e509-39817fd9c1da"
      },
      "source": [
        "data = {'date': ['2021-06-10', '2021-06-11','2021-06-12','2021-06-13'],'prices':[42.8, 102.03, 240.38, 80.9]}\n",
        "df = pd.DataFrame(data)\n",
        "print(df)"
      ],
      "execution_count": 19,
      "outputs": [
        {
          "output_type": "stream",
          "name": "stdout",
          "text": [
            "         date  prices\n",
            "0  2021-06-10   42.80\n",
            "1  2021-06-11  102.03\n",
            "2  2021-06-12  240.38\n",
            "3  2021-06-13   80.90\n"
          ]
        }
      ]
    },
    {
      "cell_type": "markdown",
      "metadata": {
        "id": "i55yBkexq2X9"
      },
      "source": [
        "###Web scraping with Pandas"
      ]
    },
    {
      "cell_type": "markdown",
      "metadata": {
        "id": "BUdWnQGCq5y8"
      },
      "source": [
        "Pandas provides a read_html() function, which can be used to convert tables on web pages to DataFrames.\n",
        "\n",
        "For example, let's scrape the list of S&P 500 companies from Wikipedia. "
      ]
    },
    {
      "cell_type": "code",
      "metadata": {
        "colab": {
          "base_uri": "https://localhost:8080/"
        },
        "id": "FUOro7LIrNAJ",
        "outputId": "4c976f15-0955-4c79-a229-95a1ef194a6a"
      },
      "source": [
        "data = pd.read_html('https://en.wikipedia.org/wiki/List_of_S%26P_500_companies')\n",
        "df = data[0]\n",
        "print(df)"
      ],
      "execution_count": 20,
      "outputs": [
        {
          "output_type": "stream",
          "name": "stdout",
          "text": [
            "    Symbol             Security  ...      CIK      Founded\n",
            "0      MMM                   3M  ...    66740         1902\n",
            "1      ABT  Abbott Laboratories  ...     1800         1888\n",
            "2     ABBV               AbbVie  ...  1551152  2013 (1888)\n",
            "3     ABMD              Abiomed  ...   815094         1981\n",
            "4      ACN            Accenture  ...  1467373         1989\n",
            "..     ...                  ...  ...      ...          ...\n",
            "500    YUM          Yum! Brands  ...  1041061         1997\n",
            "501   ZBRA   Zebra Technologies  ...   877212         1969\n",
            "502    ZBH        Zimmer Biomet  ...  1136869         1927\n",
            "503   ZION        Zions Bancorp  ...   109380         1873\n",
            "504    ZTS               Zoetis  ...  1555280         1952\n",
            "\n",
            "[505 rows x 9 columns]\n"
          ]
        }
      ]
    },
    {
      "cell_type": "markdown",
      "metadata": {
        "id": "8MX4yaBAru-a"
      },
      "source": [
        "Let's select and output only the Symbol and Security columns:"
      ]
    },
    {
      "cell_type": "code",
      "metadata": {
        "colab": {
          "base_uri": "https://localhost:8080/"
        },
        "id": "ihmyXFWBrzE7",
        "outputId": "1b1daba7-4bf0-48a1-8b53-c3347df19e1e"
      },
      "source": [
        "df = df[['Symbol', 'Security']]\n",
        "print(df)"
      ],
      "execution_count": 21,
      "outputs": [
        {
          "output_type": "stream",
          "name": "stdout",
          "text": [
            "    Symbol             Security\n",
            "0      MMM                   3M\n",
            "1      ABT  Abbott Laboratories\n",
            "2     ABBV               AbbVie\n",
            "3     ABMD              Abiomed\n",
            "4      ACN            Accenture\n",
            "..     ...                  ...\n",
            "500    YUM          Yum! Brands\n",
            "501   ZBRA   Zebra Technologies\n",
            "502    ZBH        Zimmer Biomet\n",
            "503   ZION        Zions Bancorp\n",
            "504    ZTS               Zoetis\n",
            "\n",
            "[505 rows x 2 columns]\n"
          ]
        }
      ]
    },
    {
      "cell_type": "markdown",
      "metadata": {
        "id": "skeIYpGlsC-5"
      },
      "source": [
        "We can also fitler the table, for example, by company name:"
      ]
    },
    {
      "cell_type": "code",
      "metadata": {
        "colab": {
          "base_uri": "https://localhost:8080/"
        },
        "id": "B2WqKpa1sHQ9",
        "outputId": "67f87bf8-1aca-443f-be2d-aa2526898e3b"
      },
      "source": [
        "data = pd.read_html('https://en.wikipedia.org/wiki/List_of_S%26P_500_companies')\n",
        "df = data[0]\n",
        "df = df[df['Security'] == 'Apple']\n",
        "print(df)"
      ],
      "execution_count": 23,
      "outputs": [
        {
          "output_type": "stream",
          "name": "stdout",
          "text": [
            "   Symbol Security SEC filings  ... Date first added     CIK Founded\n",
            "44   AAPL    Apple     reports  ...       1982-11-30  320193    1977\n",
            "\n",
            "[1 rows x 9 columns]\n"
          ]
        }
      ]
    },
    {
      "cell_type": "code",
      "metadata": {
        "colab": {
          "base_uri": "https://localhost:8080/"
        },
        "id": "DXBOQAYysjoK",
        "outputId": "42145738-1f0d-47b8-e208-0ec95b72375b"
      },
      "source": [
        "data = pd.read_html('https://en.wikipedia.org/wiki/List_of_S%26P_500_companies')\n",
        "df = data[0]\n",
        "df.info()"
      ],
      "execution_count": 24,
      "outputs": [
        {
          "output_type": "stream",
          "name": "stdout",
          "text": [
            "<class 'pandas.core.frame.DataFrame'>\n",
            "RangeIndex: 505 entries, 0 to 504\n",
            "Data columns (total 9 columns):\n",
            " #   Column                 Non-Null Count  Dtype \n",
            "---  ------                 --------------  ----- \n",
            " 0   Symbol                 505 non-null    object\n",
            " 1   Security               505 non-null    object\n",
            " 2   SEC filings            505 non-null    object\n",
            " 3   GICS Sector            505 non-null    object\n",
            " 4   GICS Sub-Industry      505 non-null    object\n",
            " 5   Headquarters Location  505 non-null    object\n",
            " 6   Date first added       457 non-null    object\n",
            " 7   CIK                    505 non-null    int64 \n",
            " 8   Founded                505 non-null    object\n",
            "dtypes: int64(1), object(8)\n",
            "memory usage: 35.6+ KB\n"
          ]
        }
      ]
    },
    {
      "cell_type": "markdown",
      "metadata": {
        "id": "tsBfxez5swWP"
      },
      "source": [
        "Yahoo Finance provides data on companies, their financial performance and profile.\n",
        "\n",
        "For example, here is Tesla's profile page:\n",
        "https://finance.yahoo.com/quote/TSLA/profile\n",
        "\n",
        "The first table is a list of Key executives. Let's scrape it into a DataFrame:"
      ]
    },
    {
      "cell_type": "code",
      "metadata": {
        "id": "zG_NeNIVtoYR"
      },
      "source": [
        "import pandas as pd\n",
        "import requests\n",
        "import matplotlib.pyplot as plt"
      ],
      "execution_count": 40,
      "outputs": []
    },
    {
      "cell_type": "code",
      "metadata": {
        "colab": {
          "base_uri": "https://localhost:8080/"
        },
        "id": "XL-46sR4s3l3",
        "outputId": "92a1cc67-88f7-4b03-f1f8-36d787f789de"
      },
      "source": [
        "url_link = 'https://finance.yahoo.com/quote/TSLA/profile'\n",
        "r = requests.get(url_link,headers={'User-Agent':'Mozilla/5.0 (Windows NT 10,0; Win64) AppleWebKit/537.36 (KHTML, like Gecko) Chrome/91.0.4472.124 Safari/537.36'})\n",
        "\n",
        "data = pd.read_html(r.text)\n",
        "print(data[0])"
      ],
      "execution_count": 28,
      "outputs": [
        {
          "output_type": "stream",
          "name": "stdout",
          "text": [
            "                       Name  ... Year Born\n",
            "0          Mr. Elon R. Musk  ...    1972.0\n",
            "1   Mr. Zachary J. Kirkhorn  ...    1985.0\n",
            "2     Mr. Andrew D. Baglino  ...    1981.0\n",
            "3        Mr. Vaibhav Taneja  ...    1978.0\n",
            "4         Mr. Martin Viecha  ...       NaN\n",
            "5         Mr. Alan Prescott  ...       NaN\n",
            "6           Mr. Dave Arnold  ...       NaN\n",
            "7              Brian Scelfo  ...       NaN\n",
            "8   Mr. Jeffrey B. Straubel  ...    1976.0\n",
            "9  Mr. Franz von Holzhausen  ...       NaN\n",
            "\n",
            "[10 rows x 5 columns]\n"
          ]
        }
      ]
    },
    {
      "cell_type": "markdown",
      "metadata": {
        "id": "-UhvAunUutMp"
      },
      "source": [
        "Now, we can access other financial metrics.\n",
        "For example, let's scrape the **Earnings Estimates** from the **Analysis** page:"
      ]
    },
    {
      "cell_type": "code",
      "metadata": {
        "colab": {
          "base_uri": "https://localhost:8080/"
        },
        "id": "ffO-v_DIu59E",
        "outputId": "81763052-f8c6-4bd2-eb5e-c6200207af26"
      },
      "source": [
        "url_link = 'https://finance.yahoo.com/quote/TSLA/analysis?p=TSLA'\n",
        "r = requests.get(url_link,headers={'User-Agent':'Mozilla/5.0 (Windows NT 10,0; Win64) AppleWebKit/537.36 (KHTML, like Gecko) Chrome/91.0.4472.124 Safari/537.36'})\n",
        "\n",
        "data = pd.read_html(r.text)\n",
        "print(data[0])"
      ],
      "execution_count": 30,
      "outputs": [
        {
          "output_type": "stream",
          "name": "stdout",
          "text": [
            "  Earnings Estimate  ...  Next Year (2022)\n",
            "0   No. of Analysts  ...             29.00\n",
            "1     Avg. Estimate  ...              8.17\n",
            "2      Low Estimate  ...              5.25\n",
            "3     High Estimate  ...             11.30\n",
            "4      Year Ago EPS  ...              6.06\n",
            "\n",
            "[5 rows x 5 columns]\n"
          ]
        }
      ]
    },
    {
      "cell_type": "markdown",
      "metadata": {
        "id": "OAK5m51nvilp"
      },
      "source": [
        "We used the index [0] as it's the first table on the page.\n",
        "\n",
        "Now we can access the **Avg.Estimate** row from the table and plot it as a bar chart:"
      ]
    },
    {
      "cell_type": "code",
      "metadata": {
        "colab": {
          "base_uri": "https://localhost:8080/",
          "height": 609
        },
        "id": "KjzOt9gFvvk9",
        "outputId": "20579efa-ae2a-4674-a2d5-39abafecac21"
      },
      "source": [
        "import pandas as pd\n",
        "import requests\n",
        "import matplotlib.pyplot as plt\n",
        "\n",
        "url_link = 'https://finance.yahoo.com/quote/TSLA/analysis?p=TSLA'\n",
        "r = requests.get(url_link,headers={'User-Agent':'Mozilla/5.0 (Windows NT 10,0; Win64) AppleWebKit/537.36 (KHTML, like Gecko) Chrome/91.0.4472.124 Safari/537.36'})\n",
        "\n",
        "data = pd.read_html(r.text)\n",
        "data = data[0]\n",
        "data = data[data['Earnings Estimate'] == 'Avg.Estimate']\n",
        "\n",
        "data.plot(kind='bar')"
      ],
      "execution_count": 52,
      "outputs": [
        {
          "output_type": "error",
          "ename": "IndexError",
          "evalue": "ignored",
          "traceback": [
            "\u001b[0;31m---------------------------------------------------------------------------\u001b[0m",
            "\u001b[0;31mIndexError\u001b[0m                                Traceback (most recent call last)",
            "\u001b[0;32m<ipython-input-52-133afd3c3b4c>\u001b[0m in \u001b[0;36m<module>\u001b[0;34m()\u001b[0m\n\u001b[1;32m     10\u001b[0m \u001b[0mdata\u001b[0m \u001b[0;34m=\u001b[0m \u001b[0mdata\u001b[0m\u001b[0;34m[\u001b[0m\u001b[0mdata\u001b[0m\u001b[0;34m[\u001b[0m\u001b[0;34m'Earnings Estimate'\u001b[0m\u001b[0;34m]\u001b[0m \u001b[0;34m==\u001b[0m \u001b[0;34m'Avg.Estimate'\u001b[0m\u001b[0;34m]\u001b[0m\u001b[0;34m\u001b[0m\u001b[0;34m\u001b[0m\u001b[0m\n\u001b[1;32m     11\u001b[0m \u001b[0;34m\u001b[0m\u001b[0m\n\u001b[0;32m---> 12\u001b[0;31m \u001b[0mdata\u001b[0m\u001b[0;34m.\u001b[0m\u001b[0mplot\u001b[0m\u001b[0;34m(\u001b[0m\u001b[0mkind\u001b[0m\u001b[0;34m=\u001b[0m\u001b[0;34m'bar'\u001b[0m\u001b[0;34m)\u001b[0m\u001b[0;34m\u001b[0m\u001b[0;34m\u001b[0m\u001b[0m\n\u001b[0m",
            "\u001b[0;32m/usr/local/lib/python3.7/dist-packages/pandas/plotting/_core.py\u001b[0m in \u001b[0;36m__call__\u001b[0;34m(self, *args, **kwargs)\u001b[0m\n\u001b[1;32m    947\u001b[0m                     \u001b[0mdata\u001b[0m\u001b[0;34m.\u001b[0m\u001b[0mcolumns\u001b[0m \u001b[0;34m=\u001b[0m \u001b[0mlabel_name\u001b[0m\u001b[0;34m\u001b[0m\u001b[0;34m\u001b[0m\u001b[0m\n\u001b[1;32m    948\u001b[0m \u001b[0;34m\u001b[0m\u001b[0m\n\u001b[0;32m--> 949\u001b[0;31m         \u001b[0;32mreturn\u001b[0m \u001b[0mplot_backend\u001b[0m\u001b[0;34m.\u001b[0m\u001b[0mplot\u001b[0m\u001b[0;34m(\u001b[0m\u001b[0mdata\u001b[0m\u001b[0;34m,\u001b[0m \u001b[0mkind\u001b[0m\u001b[0;34m=\u001b[0m\u001b[0mkind\u001b[0m\u001b[0;34m,\u001b[0m \u001b[0;34m**\u001b[0m\u001b[0mkwargs\u001b[0m\u001b[0;34m)\u001b[0m\u001b[0;34m\u001b[0m\u001b[0;34m\u001b[0m\u001b[0m\n\u001b[0m\u001b[1;32m    950\u001b[0m \u001b[0;34m\u001b[0m\u001b[0m\n\u001b[1;32m    951\u001b[0m     \u001b[0m__call__\u001b[0m\u001b[0;34m.\u001b[0m\u001b[0m__doc__\u001b[0m \u001b[0;34m=\u001b[0m \u001b[0m__doc__\u001b[0m\u001b[0;34m\u001b[0m\u001b[0;34m\u001b[0m\u001b[0m\n",
            "\u001b[0;32m/usr/local/lib/python3.7/dist-packages/pandas/plotting/_matplotlib/__init__.py\u001b[0m in \u001b[0;36mplot\u001b[0;34m(data, kind, **kwargs)\u001b[0m\n\u001b[1;32m     59\u001b[0m             \u001b[0mkwargs\u001b[0m\u001b[0;34m[\u001b[0m\u001b[0;34m\"ax\"\u001b[0m\u001b[0;34m]\u001b[0m \u001b[0;34m=\u001b[0m \u001b[0mgetattr\u001b[0m\u001b[0;34m(\u001b[0m\u001b[0max\u001b[0m\u001b[0;34m,\u001b[0m \u001b[0;34m\"left_ax\"\u001b[0m\u001b[0;34m,\u001b[0m \u001b[0max\u001b[0m\u001b[0;34m)\u001b[0m\u001b[0;34m\u001b[0m\u001b[0;34m\u001b[0m\u001b[0m\n\u001b[1;32m     60\u001b[0m     \u001b[0mplot_obj\u001b[0m \u001b[0;34m=\u001b[0m \u001b[0mPLOT_CLASSES\u001b[0m\u001b[0;34m[\u001b[0m\u001b[0mkind\u001b[0m\u001b[0;34m]\u001b[0m\u001b[0;34m(\u001b[0m\u001b[0mdata\u001b[0m\u001b[0;34m,\u001b[0m \u001b[0;34m**\u001b[0m\u001b[0mkwargs\u001b[0m\u001b[0;34m)\u001b[0m\u001b[0;34m\u001b[0m\u001b[0;34m\u001b[0m\u001b[0m\n\u001b[0;32m---> 61\u001b[0;31m     \u001b[0mplot_obj\u001b[0m\u001b[0;34m.\u001b[0m\u001b[0mgenerate\u001b[0m\u001b[0;34m(\u001b[0m\u001b[0;34m)\u001b[0m\u001b[0;34m\u001b[0m\u001b[0;34m\u001b[0m\u001b[0m\n\u001b[0m\u001b[1;32m     62\u001b[0m     \u001b[0mplot_obj\u001b[0m\u001b[0;34m.\u001b[0m\u001b[0mdraw\u001b[0m\u001b[0;34m(\u001b[0m\u001b[0;34m)\u001b[0m\u001b[0;34m\u001b[0m\u001b[0;34m\u001b[0m\u001b[0m\n\u001b[1;32m     63\u001b[0m     \u001b[0;32mreturn\u001b[0m \u001b[0mplot_obj\u001b[0m\u001b[0;34m.\u001b[0m\u001b[0mresult\u001b[0m\u001b[0;34m\u001b[0m\u001b[0;34m\u001b[0m\u001b[0m\n",
            "\u001b[0;32m/usr/local/lib/python3.7/dist-packages/pandas/plotting/_matplotlib/core.py\u001b[0m in \u001b[0;36mgenerate\u001b[0;34m(self)\u001b[0m\n\u001b[1;32m    276\u001b[0m         \u001b[0;32mfor\u001b[0m \u001b[0max\u001b[0m \u001b[0;32min\u001b[0m \u001b[0mself\u001b[0m\u001b[0;34m.\u001b[0m\u001b[0maxes\u001b[0m\u001b[0;34m:\u001b[0m\u001b[0;34m\u001b[0m\u001b[0;34m\u001b[0m\u001b[0m\n\u001b[1;32m    277\u001b[0m             \u001b[0mself\u001b[0m\u001b[0;34m.\u001b[0m\u001b[0m_post_plot_logic_common\u001b[0m\u001b[0;34m(\u001b[0m\u001b[0max\u001b[0m\u001b[0;34m,\u001b[0m \u001b[0mself\u001b[0m\u001b[0;34m.\u001b[0m\u001b[0mdata\u001b[0m\u001b[0;34m)\u001b[0m\u001b[0;34m\u001b[0m\u001b[0;34m\u001b[0m\u001b[0m\n\u001b[0;32m--> 278\u001b[0;31m             \u001b[0mself\u001b[0m\u001b[0;34m.\u001b[0m\u001b[0m_post_plot_logic\u001b[0m\u001b[0;34m(\u001b[0m\u001b[0max\u001b[0m\u001b[0;34m,\u001b[0m \u001b[0mself\u001b[0m\u001b[0;34m.\u001b[0m\u001b[0mdata\u001b[0m\u001b[0;34m)\u001b[0m\u001b[0;34m\u001b[0m\u001b[0;34m\u001b[0m\u001b[0m\n\u001b[0m\u001b[1;32m    279\u001b[0m \u001b[0;34m\u001b[0m\u001b[0m\n\u001b[1;32m    280\u001b[0m     \u001b[0;32mdef\u001b[0m \u001b[0m_args_adjust\u001b[0m\u001b[0;34m(\u001b[0m\u001b[0mself\u001b[0m\u001b[0;34m)\u001b[0m\u001b[0;34m:\u001b[0m\u001b[0;34m\u001b[0m\u001b[0;34m\u001b[0m\u001b[0m\n",
            "\u001b[0;32m/usr/local/lib/python3.7/dist-packages/pandas/plotting/_matplotlib/core.py\u001b[0m in \u001b[0;36m_post_plot_logic\u001b[0;34m(self, ax, data)\u001b[0m\n\u001b[1;32m   1459\u001b[0m         \u001b[0mname\u001b[0m \u001b[0;34m=\u001b[0m \u001b[0mself\u001b[0m\u001b[0;34m.\u001b[0m\u001b[0m_get_index_name\u001b[0m\u001b[0;34m(\u001b[0m\u001b[0;34m)\u001b[0m\u001b[0;34m\u001b[0m\u001b[0;34m\u001b[0m\u001b[0m\n\u001b[1;32m   1460\u001b[0m \u001b[0;34m\u001b[0m\u001b[0m\n\u001b[0;32m-> 1461\u001b[0;31m         \u001b[0ms_edge\u001b[0m \u001b[0;34m=\u001b[0m \u001b[0mself\u001b[0m\u001b[0;34m.\u001b[0m\u001b[0max_pos\u001b[0m\u001b[0;34m[\u001b[0m\u001b[0;36m0\u001b[0m\u001b[0;34m]\u001b[0m \u001b[0;34m-\u001b[0m \u001b[0;36m0.25\u001b[0m \u001b[0;34m+\u001b[0m \u001b[0mself\u001b[0m\u001b[0;34m.\u001b[0m\u001b[0mlim_offset\u001b[0m\u001b[0;34m\u001b[0m\u001b[0;34m\u001b[0m\u001b[0m\n\u001b[0m\u001b[1;32m   1462\u001b[0m         \u001b[0me_edge\u001b[0m \u001b[0;34m=\u001b[0m \u001b[0mself\u001b[0m\u001b[0;34m.\u001b[0m\u001b[0max_pos\u001b[0m\u001b[0;34m[\u001b[0m\u001b[0;34m-\u001b[0m\u001b[0;36m1\u001b[0m\u001b[0;34m]\u001b[0m \u001b[0;34m+\u001b[0m \u001b[0;36m0.25\u001b[0m \u001b[0;34m+\u001b[0m \u001b[0mself\u001b[0m\u001b[0;34m.\u001b[0m\u001b[0mbar_width\u001b[0m \u001b[0;34m+\u001b[0m \u001b[0mself\u001b[0m\u001b[0;34m.\u001b[0m\u001b[0mlim_offset\u001b[0m\u001b[0;34m\u001b[0m\u001b[0;34m\u001b[0m\u001b[0m\n\u001b[1;32m   1463\u001b[0m \u001b[0;34m\u001b[0m\u001b[0m\n",
            "\u001b[0;31mIndexError\u001b[0m: index 0 is out of bounds for axis 0 with size 0"
          ]
        },
        {
          "output_type": "display_data",
          "data": {
            "image/png": "[encoded data removed]",
            "text/plain": [
              "<Figure size 432x288 with 1 Axes>"
            ]
          },
          "metadata": {
            "needs_background": "light"
          }
        }
      ]
    },
    {
      "cell_type": "markdown",
      "metadata": {
        "id": "YCIIw0P6yQZx"
      },
      "source": [
        "##yFinance"
      ]
    },
    {
      "cell_type": "markdown",
      "metadata": {
        "id": "lTSo-ECxyl2V"
      },
      "source": [
        "Scraping Yahoo Finance involves manual work, including adding header, specifying the URL, making the requests and using the read_html() function.\n",
        "\n",
        "Another way to get financial data from Yahoo Finance is to use the yfinance package It was created to provide a super easy way to access the financial data, without the need for manual work.\n",
        "\n",
        "We need to install and import it first:"
      ]
    },
    {
      "cell_type": "code",
      "metadata": {
        "colab": {
          "base_uri": "https://localhost:8080/",
          "height": 496
        },
        "id": "I1n2s4MLy_WQ",
        "outputId": "58eb2c8a-fdc8-4978-ff62-e27ad324b35e"
      },
      "source": [
        "!pip install yfinance\n",
        "import yfinance as yf"
      ],
      "execution_count": 55,
      "outputs": [
        {
          "output_type": "stream",
          "name": "stdout",
          "text": [
            "Collecting yfinance\n",
            "  Downloading yfinance-0.1.67-py2.py3-none-any.whl (25 kB)\n",
            "Requirement already satisfied: pandas>=0.24 in /usr/local/lib/python3.7/dist-packages (from yfinance) (1.1.5)\n",
            "Requirement already satisfied: numpy>=1.15 in /usr/local/lib/python3.7/dist-packages (from yfinance) (1.19.5)\n",
            "Requirement already satisfied: requests>=2.20 in /usr/local/lib/python3.7/dist-packages (from yfinance) (2.23.0)\n",
            "Requirement already satisfied: multitasking>=0.0.7 in /usr/local/lib/python3.7/dist-packages (from yfinance) (0.0.10)\n",
            "Collecting lxml>=4.5.1\n",
            "  Downloading lxml-4.6.4-cp37-cp37m-manylinux_2_17_x86_64.manylinux2014_x86_64.manylinux_2_24_x86_64.whl (6.3 MB)\n",
            "\u001b[K     |████████████████████████████████| 6.3 MB 6.0 MB/s \n",
            "\u001b[?25hRequirement already satisfied: python-dateutil>=2.7.3 in /usr/local/lib/python3.7/dist-packages (from pandas>=0.24->yfinance) (2.8.2)\n",
            "Requirement already satisfied: pytz>=2017.2 in /usr/local/lib/python3.7/dist-packages (from pandas>=0.24->yfinance) (2018.9)\n",
            "Requirement already satisfied: six>=1.5 in /usr/local/lib/python3.7/dist-packages (from python-dateutil>=2.7.3->pandas>=0.24->yfinance) (1.15.0)\n",
            "Requirement already satisfied: urllib3!=1.25.0,!=1.25.1,<1.26,>=1.21.1 in /usr/local/lib/python3.7/dist-packages (from requests>=2.20->yfinance) (1.24.3)\n",
            "Requirement already satisfied: idna<3,>=2.5 in /usr/local/lib/python3.7/dist-packages (from requests>=2.20->yfinance) (2.10)\n",
            "Requirement already satisfied: chardet<4,>=3.0.2 in /usr/local/lib/python3.7/dist-packages (from requests>=2.20->yfinance) (3.0.4)\n",
            "Requirement already satisfied: certifi>=2017.4.17 in /usr/local/lib/python3.7/dist-packages (from requests>=2.20->yfinance) (2021.10.8)\n",
            "Installing collected packages: lxml, yfinance\n",
            "  Attempting uninstall: lxml\n",
            "    Found existing installation: lxml 4.2.6\n",
            "    Uninstalling lxml-4.2.6:\n",
            "      Successfully uninstalled lxml-4.2.6\n",
            "Successfully installed lxml-4.6.4 yfinance-0.1.67\n"
          ]
        },
        {
          "output_type": "display_data",
          "data": {
            "application/vnd.colab-display-data+json": {
              "pip_warning": {
                "packages": [
                  "lxml"
                ]
              }
            }
          },
          "metadata": {}
        }
      ]
    },
    {
      "cell_type": "markdown",
      "metadata": {
        "id": "1JveHI2UzRfo"
      },
      "source": [
        "After importing the package, we can use its features.\n",
        "The Ticker module allows us to access company data based on their market ticker symbol.\n",
        "\n",
        "Let's take Tesla's data:"
      ]
    },
    {
      "cell_type": "code",
      "metadata": {
        "colab": {
          "base_uri": "https://localhost:8080/"
        },
        "id": "gL9Yo_7vzIQ4",
        "outputId": "a04a7bba-5293-44ca-ff0e-96a2cd5958e6"
      },
      "source": [
        "data = yf.Ticker(\"TSLA\")\n",
        "\n",
        "print(data.info)"
      ],
      "execution_count": 57,
      "outputs": [
        {
          "output_type": "stream",
          "name": "stdout",
          "text": [
            "{'zip': '94304', 'sector': 'Consumer Cyclical', 'fullTimeEmployees': 70757, 'longBusinessSummary': 'Tesla, Inc. designs, develops, manufactures, leases, and sells electric vehicles, and energy generation and storage systems in the United States, China, and internationally. The company operates in two segments, Automotive, and Energy Generation and Storage. The Automotive segment offers electric vehicles, as well as sells automotive regulatory credits. It provides sedans and sport utility vehicles through direct and used vehicle sales, a network of Tesla Superchargers, and in-app upgrades; and purchase financing and leasing services. This segment is also involved in the provision of non-warranty after-sales vehicle services, sale of used vehicles, retail merchandise, and vehicle insurance, as well as sale of products through its subsidiaries to third party customers; services for electric vehicles through its company-owned service locations, and Tesla mobile service technicians; and vehicle limited warranties and extended service plans. The Energy Generation and Storage segment engages in the design, manufacture, installation, sale, and leasing of solar energy generation and energy storage products, and related services to residential, commercial, and industrial customers and utilities through its website, stores, and galleries, as well as through a network of channel partners. This segment also offers service and repairs to its energy product customers, including under warranty; and various financing options to its solar customers. The company was formerly known as Tesla Motors, Inc. and changed its name to Tesla, Inc. in February 2017. Tesla, Inc. was founded in 2003 and is headquartered in Palo Alto, California.', 'city': 'Palo Alto', 'phone': '650-681-5000', 'state': 'CA', 'country': 'United States', 'companyOfficers': [], 'website': 'http://www.tesla.com', 'maxAge': 1, 'address1': '3500 Deer Creek Road', 'industry': 'Auto Manufacturers', 'ebitdaMargins': 0.15512, 'profitMargins': 0.07403, 'grossMargins': 0.23107, 'operatingCashflow': 9930999808, 'revenueGrowth': 0.568, 'operatingMargins': 0.09789, 'ebitda': 7266999808, 'targetLowPrice': 67, 'recommendationKey': 'hold', 'grossProfits': 6630000000, 'freeCashflow': 4644624896, 'targetMedianPrice': 860, 'currentPrice': 1172.62, 'earningsGrowth': 4.333, 'currentRatio': 1.385, 'returnOnAssets': 0.055370003, 'numberOfAnalystOpinions': 35, 'targetMeanPrice': 836.72, 'debtToEquity': 35.65, 'returnOnEquity': 0.15641, 'targetHighPrice': 1400, 'totalCash': 16094999552, 'totalDebt': 10158000128, 'totalRevenue': 46848000000, 'totalCashPerShare': 16.027, 'financialCurrency': 'USD', 'revenuePerShare': 48.272, 'quickRatio': 1.002, 'recommendationMean': 2.6, 'exchange': 'NMS', 'shortName': 'Tesla, Inc.', 'longName': 'Tesla, Inc.', 'exchangeTimezoneName': 'America/New_York', 'exchangeTimezoneShortName': 'EST', 'isEsgPopulated': False, 'gmtOffSetMilliseconds': '-18000000', 'quoteType': 'EQUITY', 'symbol': 'TSLA', 'messageBoardId': 'finmb_27444752', 'market': 'us_market', 'annualHoldingsTurnover': None, 'enterpriseToRevenue': 24.279, 'beta3Year': None, 'enterpriseToEbitda': 156.518, '52WeekChange': 1.1789019, 'morningStarRiskRating': None, 'forwardEps': 8.17, 'revenueQuarterlyGrowth': None, 'sharesOutstanding': 1004259968, 'fundInceptionDate': None, 'annualReportExpenseRatio': None, 'totalAssets': None, 'bookValue': 26.945, 'sharesShort': 28075921, 'sharesPercentSharesOut': 0.027999999, 'fundFamily': None, 'lastFiscalYearEnd': 1609372800, 'heldPercentInstitutions': 0.43004, 'netIncomeToCommon': 3468000000, 'trailingEps': 3.062, 'lastDividendValue': None, 'SandP52WeekChange': 0.31316328, 'priceToBook': 43.51902, 'heldPercentInsiders': 0.19338, 'nextFiscalYearEnd': 1672444800, 'yield': None, 'mostRecentQuarter': 1632960000, 'shortRatio': 1.14, 'sharesShortPreviousMonthDate': 1632960000, 'floatShares': 818154490, 'beta': 2.008831, 'enterpriseValue': 1137413455872, 'priceHint': 2, 'threeYearAverageReturn': None, 'lastSplitDate': 1598832000, 'lastSplitFactor': '5:1', 'legalType': None, 'lastDividendDate': None, 'morningStarOverallRating': None, 'earningsQuarterlyGrowth': 3.888, 'priceToSalesTrailing12Months': 25.13694, 'dateShortInterest': 1635465600, 'pegRatio': 2.57, 'ytdReturn': None, 'forwardPE': 143.52754, 'lastCapGain': None, 'shortPercentOfFloat': 0.0344, 'sharesShortPriorMonth': 29205723, 'impliedSharesOutstanding': None, 'category': None, 'fiveYearAverageReturn': None, 'previousClose': 1137.06, 'regularMarketOpen': 1162.33, 'twoHundredDayAverage': 736.90594, 'trailingAnnualDividendYield': None, 'payoutRatio': 0, 'volume24Hr': None, 'regularMarketDayHigh': 1201.94, 'navPrice': None, 'averageDailyVolume10Day': 31776340, 'regularMarketPreviousClose': 1137.06, 'fiftyDayAverage': 917.374, 'trailingAnnualDividendRate': None, 'open': 1162.33, 'toCurrency': None, 'averageVolume10days': 31776340, 'expireDate': None, 'algorithm': None, 'dividendRate': None, 'exDividendDate': None, 'circulatingSupply': None, 'startDate': None, 'regularMarketDayLow': 1132.8201, 'currency': 'USD', 'trailingPE': 382.95883, 'regularMarketVolume': 22100253, 'lastMarket': None, 'maxSupply': None, 'openInterest': None, 'marketCap': 1177615335424, 'volumeAllCurrencies': None, 'strikePrice': None, 'averageVolume': 23898237, 'dayLow': 1132.8201, 'ask': 1176.38, 'askSize': 900, 'volume': 22100253, 'fiftyTwoWeekHigh': 1243.49, 'fromCurrency': None, 'fiveYearAvgDividendYield': None, 'fiftyTwoWeekLow': 501.79, 'bid': 1176, 'tradeable': False, 'dividendYield': None, 'bidSize': 1200, 'dayHigh': 1201.94, 'regularMarketPrice': 1172.62, 'preMarketPrice': 1162.35, 'logo_url': 'https://logo.clearbit.com/tesla.com'}\n"
          ]
        }
      ]
    },
    {
      "cell_type": "markdown",
      "metadata": {
        "id": "o_DXsmz6z2xz"
      },
      "source": [
        "We can now access the company information under the corresponding fields. \n",
        "\n",
        "Let's output the profit margins and RoE:"
      ]
    },
    {
      "cell_type": "code",
      "metadata": {
        "colab": {
          "base_uri": "https://localhost:8080/"
        },
        "id": "ZIAbI6KD0EcE",
        "outputId": "7ea315db-c214-4124-f1a1-f235543ca434"
      },
      "source": [
        "print(data.info['profitMargins'])\n",
        "print(data.info['returnOnEquity'])"
      ],
      "execution_count": 60,
      "outputs": [
        {
          "output_type": "stream",
          "name": "stdout",
          "text": [
            "0.07403\n",
            "0.15641\n"
          ]
        }
      ]
    },
    {
      "cell_type": "markdown",
      "metadata": {
        "id": "6WDbpWwt0gi_"
      },
      "source": [
        "To output the profit margins and RoE of Amazon:"
      ]
    },
    {
      "cell_type": "code",
      "metadata": {
        "colab": {
          "base_uri": "https://localhost:8080/"
        },
        "id": "8bTqh4VJ0pbP",
        "outputId": "485cc7c5-8ce3-4972-afc6-de8057586e9d"
      },
      "source": [
        "data = yf.Ticker(\"AMZN\")\n",
        "print(data.info['profitMargins'])\n",
        "print(data.info['returnOnEquity'])"
      ],
      "execution_count": 61,
      "outputs": [
        {
          "output_type": "stream",
          "name": "stdout",
          "text": [
            "0.057350002\n",
            "0.25832\n"
          ]
        }
      ]
    },
    {
      "cell_type": "markdown",
      "metadata": {
        "id": "MA8a3wHy05ZH"
      },
      "source": [
        "In addition to the **info** fields, the **data** object provides the following fields:"
      ]
    },
    {
      "cell_type": "markdown",
      "metadata": {
        "id": "9J4OMGuY1guY"
      },
      "source": [
        "\n",
        "```\n",
        "#show dividends\n",
        "print(data.dividends)\n",
        "\n",
        "#show splits\n",
        "print(data.splits)\n",
        "\n",
        "#show balance sheet\n",
        "print(data.balance_sheet)\n",
        "\n",
        "#show cashflow\n",
        "print(data.cashflow)\n",
        "\n",
        "#show earnings\n",
        "print(data.earnings)\n",
        "```\n"
      ]
    },
    {
      "cell_type": "markdown",
      "metadata": {
        "id": "PdM79qlx1v3i"
      },
      "source": [
        "We can print all results for Tesla."
      ]
    },
    {
      "cell_type": "code",
      "metadata": {
        "colab": {
          "base_uri": "https://localhost:8080/"
        },
        "id": "Pk4y1eWM14jo",
        "outputId": "f557eccb-4df1-4df5-9acb-7ff6122cbda0"
      },
      "source": [
        "data = yf.Ticker(\"TSLA\")\n",
        "\n",
        "# show dividends\n",
        "print(data.dividends)\n",
        "\n",
        "# show splits\n",
        "print(data.splits)\n",
        "\n",
        "# show balance sheet\n",
        "print(data.balance_sheet)\n",
        "\n",
        "# show cashflow\n",
        "print(data.cashflow)\n",
        "\n",
        "# show earnings\n",
        "print(data.earnings)"
      ],
      "execution_count": 62,
      "outputs": [
        {
          "output_type": "stream",
          "name": "stdout",
          "text": [
            "Series([], Name: Dividends, dtype: int64)\n",
            "Date\n",
            "2020-08-31    5.0\n",
            "Name: Stock Splits, dtype: float64\n",
            "                             2020-12-31  ...    2017-12-31\n",
            "Intangible Assets          3.130000e+08  ...  3.615020e+08\n",
            "Capital Surplus            2.726000e+10  ...  9.178024e+09\n",
            "Total Liab                 2.846900e+10  ...  2.302305e+10\n",
            "Total Stockholder Equity   2.222500e+10  ...  4.237242e+09\n",
            "Minority Interest          1.454000e+09  ...  1.395080e+09\n",
            "Other Current Liab         4.147000e+09  ...  3.098379e+09\n",
            "Total Assets               5.214800e+10  ...  2.865537e+10\n",
            "Common Stock               1.000000e+06  ...  1.690000e+05\n",
            "Other Current Assets       2.380000e+08  ...  1.553230e+08\n",
            "Retained Earnings         -5.399000e+09  ... -4.974299e+09\n",
            "Other Liab                 3.302000e+09  ...  4.196294e+09\n",
            "Good Will                  2.070000e+08  ...  6.023700e+07\n",
            "Treasury Stock             3.630000e+08  ...  3.334800e+07\n",
            "Other Assets               1.536000e+09  ...  1.166193e+09\n",
            "Cash                       1.938400e+10  ...  3.367914e+09\n",
            "Total Current Liabilities  1.424800e+10  ...  7.674740e+09\n",
            "Short Long Term Debt       1.758000e+09  ...  9.639320e+08\n",
            "Other Stockholder Equity   3.630000e+08  ...  3.334800e+07\n",
            "Property Plant Equipment   2.337500e+10  ...  2.049162e+10\n",
            "Total Current Assets       2.671700e+10  ...  6.570520e+09\n",
            "Net Tangible Assets        2.170500e+10  ...  3.815503e+09\n",
            "Net Receivables            1.903000e+09  ...  5.153810e+08\n",
            "Long Term Debt             8.571000e+09  ...  9.486248e+09\n",
            "Inventory                  4.101000e+09  ...  2.263537e+09\n",
            "Accounts Payable           6.051000e+09  ...  2.390250e+09\n",
            "Long Term Investments               NaN  ...  5.304000e+06\n",
            "\n",
            "[26 rows x 4 columns]\n",
            "                                             2020-12-31  ...    2017-12-31\n",
            "Change To Liabilities                      2.423000e+09  ...  8.570000e+08\n",
            "Total Cashflows From Investing Activities -3.132000e+09  ... -4.196000e+09\n",
            "Net Borrowings                            -2.488000e+09  ...  3.385000e+09\n",
            "Total Cash From Financing Activities       9.973000e+09  ...  4.415000e+09\n",
            "Change To Operating Activities            -1.165000e+09  ... -1.150000e+09\n",
            "Issuance Of Stock                          1.268600e+10  ...  6.590000e+08\n",
            "Net Income                                 7.210000e+08  ... -1.962000e+09\n",
            "Change In Cash                             1.311800e+10  ...  1.980000e+08\n",
            "Effect Of Exchange Rate                    3.340000e+08  ...  4.000000e+07\n",
            "Total Cash From Operating Activities       5.943000e+09  ... -6.100000e+07\n",
            "Depreciation                               2.322000e+09  ...  1.636000e+09\n",
            "Other Cashflows From Investing Activities  1.230000e+08  ...  4.600000e+07\n",
            "Change To Inventory                       -4.220000e+08  ... -1.790000e+08\n",
            "Change To Account Receivables             -6.520000e+08  ... -2.500000e+07\n",
            "Other Cashflows From Financing Activities -2.250000e+08  ...  3.710000e+08\n",
            "Change To Netincome                        2.536000e+09  ...  6.710000e+08\n",
            "Capital Expenditures                      -3.232000e+09  ... -4.081000e+09\n",
            "\n",
            "[17 rows x 4 columns]\n",
            "          Revenue    Earnings\n",
            "Year                         \n",
            "2017  11759000000 -1962000000\n",
            "2018  21461000000  -976000000\n",
            "2019  24578000000  -862000000\n",
            "2020  31536000000   721000000\n"
          ]
        }
      ]
    },
    {
      "cell_type": "markdown",
      "metadata": {
        "id": "dPK8G2Rz2Hhb"
      },
      "source": [
        "We can also easily plot the data.\n",
        "For example, let' create a bar chart for the revenue:"
      ]
    },
    {
      "cell_type": "code",
      "metadata": {
        "colab": {
          "base_uri": "https://localhost:8080/",
          "height": 323
        },
        "id": "sy_6rJdp2Pa_",
        "outputId": "bc16068e-dce2-4e0b-9a2d-a135824292b6"
      },
      "source": [
        "data = yf.Ticker(\"TSLA\")\n",
        "\n",
        "x = data.earnings\n",
        "\n",
        "x.plot(kind=\"bar\")"
      ],
      "execution_count": 63,
      "outputs": [
        {
          "output_type": "execute_result",
          "data": {
            "text/plain": [
              "<matplotlib.axes._subplots.AxesSubplot at 0x7f8f2b17f490>"
            ]
          },
          "metadata": {},
          "execution_count": 63
        },
        {
          "output_type": "display_data",
          "data": {
            "image/png": "[encoded data removed]",
            "text/plain": [
              "<Figure size 432x288 with 1 Axes>"
            ]
          },
          "metadata": {
            "needs_background": "light"
          }
        }
      ]
    },
    {
      "cell_type": "markdown",
      "metadata": {
        "id": "rLFK8M4L2eTs"
      },
      "source": [
        "To plot the cash flow table as bar charts."
      ]
    },
    {
      "cell_type": "code",
      "metadata": {
        "colab": {
          "base_uri": "https://localhost:8080/",
          "height": 493
        },
        "id": "g6mB2URo2lkD",
        "outputId": "f9c957d0-4105-43f6-847c-40902f15535f"
      },
      "source": [
        "data = yf.Ticker(\"TSLA\")\n",
        "x = data.cashflow\n",
        "x.plot(kind=\"bar\")"
      ],
      "execution_count": 65,
      "outputs": [
        {
          "output_type": "execute_result",
          "data": {
            "text/plain": [
              "<matplotlib.axes._subplots.AxesSubplot at 0x7f8f2412fa50>"
            ]
          },
          "metadata": {},
          "execution_count": 65
        },
        {
          "output_type": "display_data",
          "data": {
            "image/png": "[encoded data removed]",
            "text/plain": [
              "<Figure size 432x288 with 1 Axes>"
            ]
          },
          "metadata": {
            "needs_background": "light"
          }
        }
      ]
    },
    {
      "cell_type": "markdown",
      "metadata": {
        "id": "oJg1oTA33WF9"
      },
      "source": [
        "##Company Data"
      ]
    },
    {
      "cell_type": "markdown",
      "metadata": {
        "id": "DMvJRtuZ3X4Q"
      },
      "source": [
        "We can also use the yfinance package to access data on company investors. \n",
        "\n",
        "Let's output the list of Tesla's major holders:"
      ]
    },
    {
      "cell_type": "code",
      "metadata": {
        "colab": {
          "base_uri": "https://localhost:8080/"
        },
        "id": "KrubYBS83id1",
        "outputId": "d21d97c0-13b2-4551-cbd0-37d2e6c226fd"
      },
      "source": [
        "print(data.major_holders)"
      ],
      "execution_count": 66,
      "outputs": [
        {
          "output_type": "stream",
          "name": "stdout",
          "text": [
            "        0                                      1\n",
            "0  19.34%        % of Shares Held by All Insider\n",
            "1  43.00%       % of Shares Held by Institutions\n",
            "2  53.31%        % of Float Held by Institutions\n",
            "3    2819  Number of Institutions Holding Shares\n"
          ]
        }
      ]
    },
    {
      "cell_type": "markdown",
      "metadata": {
        "id": "H-uFl_w63qEq"
      },
      "source": [
        "We can also get the list of the insitutional holders:"
      ]
    },
    {
      "cell_type": "code",
      "metadata": {
        "colab": {
          "base_uri": "https://localhost:8080/"
        },
        "id": "zalgzYvc3vIq",
        "outputId": "dd8be2f2-357a-4a56-df90-bf8d4054cbee"
      },
      "source": [
        "print(data.institutional_holders)"
      ],
      "execution_count": 67,
      "outputs": [
        {
          "output_type": "stream",
          "name": "stdout",
          "text": [
            "                              Holder    Shares  ...   % Out        Value\n",
            "0         Vanguard Group, Inc. (The)  61992012  ...  0.0617  48073565465\n",
            "1                     Blackrock Inc.  52829488  ...  0.0526  40968211354\n",
            "2            Capital World Investors  37427314  ...  0.0373  29024133460\n",
            "3           State Street Corporation  31230141  ...  0.0311  24218349742\n",
            "4        Baillie Gifford and Company  13853124  ...  0.0138  10742820599\n",
            "5      Geode Capital Management, LLC  13169939  ...  0.0131  10213024295\n",
            "6            Jennison Associates LLC  10630339  ...  0.0106   8243615287\n",
            "7                           FMR, LLC   9921292  ...  0.0099   7693763520\n",
            "8         Northern Trust Corporation   8634516  ...  0.0086   6695894467\n",
            "9  Norges Bank Investment Management   7790070  ...  0.0078   5497218696\n",
            "\n",
            "[10 rows x 5 columns]\n"
          ]
        }
      ]
    }
  ]
}